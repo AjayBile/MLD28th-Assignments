{
 "cells": [
  {
   "cell_type": "markdown",
   "metadata": {},
   "source": [
    "#### Question 1.1"
   ]
  },
  {
   "cell_type": "markdown",
   "metadata": {},
   "source": [
    "Problem Statement:\n",
    "\n",
    "Write a Python Program to implement your own myreduce() function which works exactly like\n",
    "Python's built-in function reduce()\n",
    "\n",
    "Solution:"
   ]
  },
  {
   "cell_type": "code",
   "execution_count": 1,
   "metadata": {},
   "outputs": [
    {
     "name": "stdout",
     "output_type": "stream",
     "text": [
      "Multiplication is 720\n",
      "Addition is 21\n"
     ]
    }
   ],
   "source": [
    "def add(i,j):\n",
    "    return i+j\n",
    "\n",
    "def mul(i,j):\n",
    "    return i*j\n",
    "\n",
    "def myreduce(func, iterable, start):\n",
    "    ans = start\n",
    "    for x in iterable:\n",
    "        ans = func(ans, x)\n",
    "        \n",
    "    return ans\n",
    "\n",
    "l = [1,2,3,4,5,6]\n",
    "\n",
    "print('Multiplication is',myreduce(mul, l, 1))\n",
    "print('Addition is',myreduce(add, l, 0))"
   ]
  },
  {
   "cell_type": "markdown",
   "metadata": {},
   "source": [
    "#### Question 1.2"
   ]
  },
  {
   "cell_type": "markdown",
   "metadata": {},
   "source": [
    "Problem Statement:\n",
    "\n",
    "Write a Python program to implement your own myfilter() function which works exactly like Python's built-in function filter()\n",
    "\n",
    "Solution:"
   ]
  },
  {
   "cell_type": "code",
   "execution_count": 2,
   "metadata": {},
   "outputs": [
    {
     "data": {
      "text/plain": [
       "[1, 3, 5, 7, 9]"
      ]
     },
     "execution_count": 2,
     "metadata": {},
     "output_type": "execute_result"
    }
   ],
   "source": [
    "def even(n):\n",
    "    if n % 2 == 0:\n",
    "        return n\n",
    "    \n",
    "def odd(n):\n",
    "    if not n % 2 == 0:\n",
    "        return n\n",
    "\n",
    "        \n",
    "def myfilter(fn, iter):\n",
    "    data = []\n",
    "    for i in iter:\n",
    "        x = fn(i)\n",
    "        if x:\n",
    "            data.append(x) \n",
    "    return data\n",
    "        \n",
    "        \n",
    "myfilter(odd, range(0,10))"
   ]
  },
  {
   "cell_type": "markdown",
   "metadata": {},
   "source": [
    "#### Question 2"
   ]
  },
  {
   "cell_type": "markdown",
   "metadata": {},
   "source": [
    "Problem Statement:\n",
    "\n",
    "Implement List comprehensions to produce the following lists.\n",
    "Write List comprehensions to produce the following Lists\n",
    "\n",
    "['x', 'xx', 'xxx', 'xxxx', 'y', 'yy', 'yyy', 'yyyy', 'z', 'zz', 'zzz', 'zzzz']\n",
    "\n",
    "['x', 'y', 'z', 'xx', 'yy', 'zz', 'xx', 'yy', 'zz', 'xxxx', 'yyyy', 'zzzz']\n",
    "\n",
    "[[2], [3], [4], [3], [4], [5], [4], [5], [6]]\n",
    "\n",
    "[[2, 3, 4, 5], [3, 4, 5, 6], [4, 5, 6, 7], [5, 6, 7, 8]]\n",
    "\n",
    "[(1, 1), (2, 1), (3, 1), (1, 2), (2, 2), (3, 2), (1, 3), (2, 3), (3, 3)]\n",
    "\n",
    "Solution:\n"
   ]
  },
  {
   "cell_type": "code",
   "execution_count": 3,
   "metadata": {},
   "outputs": [
    {
     "data": {
      "text/plain": [
       "['x', 'xx', 'xxx', 'xxxx', 'y', 'yy', 'yyy', 'yyyy', 'z', 'zz', 'zzz', 'zzzz']"
      ]
     },
     "execution_count": 3,
     "metadata": {},
     "output_type": "execute_result"
    }
   ],
   "source": [
    "first_output = []\n",
    "for i in range(ord('x'), ord('z')+1):\n",
    "    count = 0\n",
    "    \n",
    "    for j in range(0,4):\n",
    "        ans = \"\"\n",
    "        count = count + 1\n",
    "        \n",
    "        for k in range(0, count):\n",
    "            ans = ans+chr(i)\n",
    "            \n",
    "        first_output.append(ans)\n",
    "        \n",
    "        \n",
    "first_output"
   ]
  },
  {
   "cell_type": "code",
   "execution_count": 4,
   "metadata": {},
   "outputs": [
    {
     "data": {
      "text/plain": [
       "['x', 'y', 'z', 'xx', 'yy', 'zz', 'xx', 'yy', 'zz', 'xxx', 'yyy', 'zzz']"
      ]
     },
     "execution_count": 4,
     "metadata": {},
     "output_type": "execute_result"
    }
   ],
   "source": [
    "second_output = []\n",
    "temp = 0\n",
    "for i in range(0,4):\n",
    "    myvar = ord('x')\n",
    "    temp = temp + 1\n",
    "    \n",
    "    if i == 2:\n",
    "        temp = temp - 1\n",
    "    \n",
    "    for j in range(0,3):\n",
    "        ans = \"\"\n",
    "        \n",
    "        for k in range(0,temp):\n",
    "            ans = ans + chr(myvar+j)\n",
    "            \n",
    "        second_output.append(ans)\n",
    "        \n",
    "second_output   "
   ]
  },
  {
   "cell_type": "code",
   "execution_count": 5,
   "metadata": {},
   "outputs": [
    {
     "data": {
      "text/plain": [
       "[[2], [3], [4], [3], [4], [5], [4], [5], [6]]"
      ]
     },
     "execution_count": 5,
     "metadata": {},
     "output_type": "execute_result"
    }
   ],
   "source": [
    "third_output = []\n",
    "\n",
    "for i in range(2, 5):\n",
    "    for j in range(0,3):\n",
    "        ans = i + j\n",
    "        third_output.append([ans])\n",
    "        \n",
    "third_output"
   ]
  },
  {
   "cell_type": "code",
   "execution_count": 6,
   "metadata": {},
   "outputs": [
    {
     "data": {
      "text/plain": [
       "[[2, 3, 4, 5], [3, 4, 5, 6], [4, 5, 6, 7], [5, 6, 7, 8]]"
      ]
     },
     "execution_count": 6,
     "metadata": {},
     "output_type": "execute_result"
    }
   ],
   "source": [
    "fourth_output = []\n",
    "\n",
    "for i in range(2, 6):\n",
    "    for j in range(0,5):\n",
    "        ans = i + j\n",
    "    fourth_output.append(list(range(i, ans)))\n",
    "        \n",
    "fourth_output"
   ]
  },
  {
   "cell_type": "code",
   "execution_count": 7,
   "metadata": {},
   "outputs": [
    {
     "data": {
      "text/plain": [
       "[(1, 1), (2, 1), (3, 1), (1, 2), (2, 2), (3, 2), (1, 3), (2, 3), (3, 3)]"
      ]
     },
     "execution_count": 7,
     "metadata": {},
     "output_type": "execute_result"
    }
   ],
   "source": [
    "fifth_output = []\n",
    "\n",
    "for i in range(1, 4):\n",
    "    for j in range(1, 4):\n",
    "        fifth_output.append((j, i))\n",
    "        \n",
    "fifth_output"
   ]
  },
  {
   "cell_type": "markdown",
   "metadata": {},
   "source": [
    "#### Question 3"
   ]
  },
  {
   "cell_type": "markdown",
   "metadata": {},
   "source": [
    "Problem Statement:\n",
    "\n",
    "Implement a function longestWord() that takes a list of words and returns the longest one.\n",
    "\n",
    "Solution:"
   ]
  },
  {
   "cell_type": "code",
   "execution_count": 8,
   "metadata": {},
   "outputs": [
    {
     "data": {
      "text/plain": [
       "'aaaaaa'"
      ]
     },
     "execution_count": 8,
     "metadata": {},
     "output_type": "execute_result"
    }
   ],
   "source": [
    "def longestWord(names_list): \n",
    "    len_names = [len(name) for name in names_list]\n",
    "    return names_list[len_names.index(max(len_names))]\n",
    "    \n",
    "longestWord(['aaaaaa', 'akshay', 'aaaaa', 'john', 'ajay'])"
   ]
  }
 ],
 "metadata": {
  "kernelspec": {
   "display_name": "Python 3",
   "language": "python",
   "name": "python3"
  },
  "language_info": {
   "codemirror_mode": {
    "name": "ipython",
    "version": 3
   },
   "file_extension": ".py",
   "mimetype": "text/x-python",
   "name": "python",
   "nbconvert_exporter": "python",
   "pygments_lexer": "ipython3",
   "version": "3.7.4"
  }
 },
 "nbformat": 4,
 "nbformat_minor": 2
}
